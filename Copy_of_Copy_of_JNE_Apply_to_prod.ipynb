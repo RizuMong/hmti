{
  "cells": [
    {
      "cell_type": "markdown",
      "metadata": {
        "id": "view-in-github",
        "colab_type": "text"
      },
      "source": [
        "<a href=\"https://colab.research.google.com/github/RizuMong/hmti/blob/master/Copy_of_Copy_of_JNE_Apply_to_prod.ipynb\" target=\"_parent\"><img src=\"https://colab.research.google.com/assets/colab-badge.svg\" alt=\"Open In Colab\"/></a>"
      ]
    },
    {
      "cell_type": "markdown",
      "metadata": {
        "id": "YERGv6NDcE6_"
      },
      "source": [
        "# Setup"
      ]
    },
    {
      "cell_type": "code",
      "execution_count": null,
      "metadata": {
        "colab": {
          "base_uri": "https://localhost:8080/"
        },
        "id": "ckw-e9V2dA01",
        "outputId": "d5ed99ba-ef8b-4216-f153-6f0cb612a7eb"
      },
      "outputs": [
        {
          "output_type": "stream",
          "name": "stdout",
          "text": [
            "Drive already mounted at /content/gdrive; to attempt to forcibly remount, call drive.mount(\"/content/gdrive\", force_remount=True).\n"
          ]
        }
      ],
      "source": [
        "\n",
        "import pandas as pd\n",
        "import io\n",
        "import time\n",
        "import requests\n",
        "import json\n",
        "from google.colab import drive\n",
        "drive.mount('/content/gdrive')\n",
        "\n"
      ]
    },
    {
      "cell_type": "code",
      "execution_count": null,
      "metadata": {
        "id": "VQks8Wuze-UH"
      },
      "outputs": [],
      "source": [
        "raw_df = pd.read_excel('gdrive/My Drive/jojo/Testing Import 200 records.xlsx', dtype={'pkp_date': str, 'npwp_id':str, \"industry_type\": str, \"vat_out_type\":str, \"term_of_payment\":str,\"site_id\":str, \"site_name\":str,\"contract_number\":str,\"contract_validity_from_date\":str,\"contract_validity_to_date\":str,\"account_executive_name\":str,\"account_executive_phone_number\":str,\"contact_information_address_latitude\":str,\"contact_information_address_longitude\":str,\"contact_information_address_zip_code\":str,\"contact_information_address_kecamatan\":str,\"contact_information_address_kelurahan\":str,\"npwp_address_kelurahan\":str,\"npwp_address_kecamatan\":str,\"npwp_address_country\":str,\"npwp_address_zip_code\":str,\"npwp_address_city\":str,\"pkp_number\":str,\"creation_date_and_time\":str,\"ccrf_last_update_date_and_time_the_core\":str})  "
      ]
    },
    {
      "cell_type": "code",
      "execution_count": null,
      "metadata": {
        "colab": {
          "base_uri": "https://localhost:8080/"
        },
        "id": "BOkZSFrsGXzo",
        "outputId": "e7d9eaf3-25ff-4c44-9da0-4f9b5f87d217"
      },
      "outputs": [
        {
          "output_type": "execute_result",
          "data": {
            "text/plain": [
              "row                                           int64\n",
              "customer_id                                  object\n",
              "customer_name                                object\n",
              "branch_id                                    object\n",
              "branch_name                                  object\n",
              "site_id                                      object\n",
              "site_name                                    object\n",
              "customer_type                                object\n",
              "customer_type_name                           object\n",
              "contract_number                              object\n",
              "contract_validity_from_date                  object\n",
              "contract_validity_to_date                    object\n",
              "customer_status                              object\n",
              "account_executive_nik                        object\n",
              "account_executive_name                       object\n",
              "account_executive_phone_number               object\n",
              "check_box_billed_by_branch                   object\n",
              "check_box_billed_by_site                     object\n",
              "industry_type                                object\n",
              "is_cashless                                  object\n",
              "department                                   object\n",
              "contact_information_name_or_description      object\n",
              "contact_information_address_latitude         object\n",
              "contact_information_address_longitude        object\n",
              "contact_information_address_country          object\n",
              "contact_information_address_zip_code         object\n",
              "contact_information_address_city             object\n",
              "contact_information_address_kecamatan        object\n",
              "contact_information_address_kelurahan        object\n",
              "contact_information_address_street           object\n",
              "contact_information_primary                  object\n",
              "contact_information_purpose                  object\n",
              "contact_information_phone                    object\n",
              "contact_information_fax                      object\n",
              "contact_information_email                    object\n",
              "contact_information_website                  object\n",
              "contact_information_director_name            object\n",
              "contact_information_director_title           object\n",
              "contact_information_director_phone           object\n",
              "contact_information_director_email           object\n",
              "contact_information_manager_name             object\n",
              "contact_information_manager_title            object\n",
              "contact_information_manager_phone            object\n",
              "contact_information_manager_email            object\n",
              "contact_information_pic_operational_name     object\n",
              "contact_information_pic_operational_title    object\n",
              "contact_information_pic_operational_phone    object\n",
              "contact_information_pic_operational_email    object\n",
              "contact_information_pic_finance_name         object\n",
              "contact_information_pic_finance_title        object\n",
              "contact_information_pic_finance_phone        object\n",
              "contact_information_pic_finance_email        object\n",
              "contact_information_pic_collection_name      object\n",
              "contact_information_pic_collection_title     object\n",
              "contact_information_pic_collection_phone     object\n",
              "contact_information_pic_collection_email     object\n",
              "npwp_id                                      object\n",
              "npwp_name                                    object\n",
              "npwp_street                                  object\n",
              "npwp_address_kelurahan                       object\n",
              "npwp_address_kecamatan                       object\n",
              "npwp_address_country                         object\n",
              "npwp_address_zip_code                        object\n",
              "npwp_address_city                            object\n",
              "pkp_number                                   object\n",
              "pkp_date                                     object\n",
              "term_of_payment                              object\n",
              "organization_type                            object\n",
              "vat_out_type                                 object\n",
              "currency                                     object\n",
              "generate_mass_standard_invoice               object\n",
              "creation_date_and_time                       object\n",
              "ccrf_last_update_date_and_time_the_core      object\n",
              "dtype: object"
            ]
          },
          "metadata": {},
          "execution_count": 121
        }
      ],
      "source": [
        "pd.set_option('display.max_rows', 100)\n",
        "raw_df.dtypes"
      ]
    },
    {
      "cell_type": "code",
      "execution_count": null,
      "metadata": {
        "id": "SLQLkE-On4gt"
      },
      "outputs": [],
      "source": [
        "df = raw_df.fillna('--')"
      ]
    },
    {
      "cell_type": "code",
      "execution_count": null,
      "metadata": {
        "colab": {
          "base_uri": "https://localhost:8080/"
        },
        "id": "edLLShUeNCAy",
        "outputId": "1b2f6df6-f168-4e94-87a6-a254fe9f31b1"
      },
      "outputs": [
        {
          "output_type": "stream",
          "name": "stdout",
          "text": [
            "https://api-raise-pro.jne.co.id/230/utility/get-master/customer-identity\n",
            "<Response [200]>\n"
          ]
        }
      ],
      "source": [
        "import requests  # Import the requests library\n",
        "\n",
        "# Query URL\n",
        "url = ('https://api-raise-pro.jne.co.id/230/utility/get-master/customer-identity')\n",
        "print(url)\n",
        "\n",
        "response = requests.get(url)  # Make a GET request to the URL\n",
        "\n",
        "# Print status code (and associated text)\n",
        "print(response)\n",
        "\n",
        "# Print data returned (parsing as JSON)\n",
        "payload = response.json()  # Parse `response.text` into JSON\n",
        "form_data = payload[\"form_data_production\"]\n",
        "master_branch_organization=payload[\"data\"][\"master_branch_organization\"]\n",
        "master_customer_type=payload[\"data\"][\"master_customer_type\"]\n",
        "master_detail_customer_type=payload[\"data\"][\"master_detail_customer_type\"]\n",
        "master_industry_type=payload[\"data\"][\"master_industry_type\"]\n",
        "master_term_of_payment=payload[\"data\"][\"master_term_of_payment\"]\n",
        "master_organization_type=payload[\"data\"][\"master_organization_type\"]\n",
        "master_vat_out_type=payload[\"data\"][\"master_vat_out_type\"]\n",
        "master_currency=payload[\"data\"][\"master_currency\"]\n",
        "master_account_executive=payload[\"data\"][\"master_account_executive\"]\n",
        "master_site_organization=payload[\"data\"][\"master_site_organization\"]\n",
        "master_zip_code=payload[\"data\"][\"master_zip_code\"]\n",
        "master_invoicing_method=payload[\"data\"][\"master_invoicing_method\"]"
      ]
    },
    {
      "cell_type": "markdown",
      "metadata": {
        "id": "1xL-8T2ZTFoY"
      },
      "source": [
        "# Validasi"
      ]
    },
    {
      "cell_type": "code",
      "execution_count": null,
      "metadata": {
        "id": "Lsl3CYEPTHJo"
      },
      "outputs": [],
      "source": [
        "def findz(theArray, field, target):\n",
        "  for x in theArray:\n",
        "    if x[field] == target:\n",
        "      return x\n",
        "  return {}\n",
        "\n",
        "def findz_need_lowercase(theArray, field, target):\n",
        "  for x in theArray:\n",
        "    if x[field].lower().strip() == target.lower().strip():\n",
        "      # print(\"kiri \", x[field].lower())\n",
        "      # print(\"kanan \", target.lower())\n",
        "      return x\n",
        "  return {}\n",
        "\n",
        "def find_int_with_str(theArray, field, target):\n",
        "  for x in theArray:\n",
        "    if str(x[field]).lower().strip() == target.lower().strip():\n",
        "      return x\n",
        "  return {}"
      ]
    },
    {
      "cell_type": "code",
      "execution_count": null,
      "metadata": {
        "id": "SqoIJ7qNTJLx"
      },
      "outputs": [],
      "source": [
        "def complex_function(vbranch_id, vcustomer_type,vcustomer_type_name, vindustry_type,topParse,vorganization_type, vvat_out_type, vcurrency, customer_id, customer_name, branch_id, branch_name, customer_type,industry_type, npwp_id):\n",
        "  findBranchID = findz(master_branch_organization, 'branch_id', vbranch_id) \n",
        "  findCustType = findz_need_lowercase(master_customer_type, 'customer_type', vcustomer_type) \n",
        "  findCustTypeName = findz_need_lowercase(master_detail_customer_type, 'customer_type_name', vcustomer_type_name)\n",
        "  findIndustryType = findz_need_lowercase(master_industry_type, 'industry_code', vindustry_type) \n",
        "  findTermOfPayment = find_int_with_str(master_term_of_payment, 'term_of_payment', topParse) \n",
        "  findOrgType = findz(master_organization_type, 'organization_name', vorganization_type)\n",
        "  findVAToutType = findz_need_lowercase(master_vat_out_type, 'vat_out_type', vvat_out_type) \n",
        "  findCurrency = findz(master_currency, 'currency', vcurrency) \n",
        "  \n",
        "  # message 1\n",
        "\n",
        "  message = \"\"\n",
        "  if len(customer_id) < 1: #kalo dia cuma str kosong\n",
        "    message += 'customer_id' + \" harus ada ||\"\n",
        "  if len(customer_name) < 1:\n",
        "    message += 'customer_name' + \" harus ada ||\"\n",
        "  if len(branch_id) < 1:\n",
        "    message += 'branch_id'+ \" harus ada ||\"\n",
        "  if len(branch_name) < 1:\n",
        "    message += 'branch_name'+ \" harus ada ||\"\n",
        "  if len(customer_type) < 1:\n",
        "    message += 'customer_type'+ \" harus ada ||\"\n",
        "  if len(str(industry_type)) < 1:\n",
        "    message += 'industry_type'+ \" harus ada ||\"\n",
        "  if len(npwp_id) < 1:\n",
        "    message += 'npwp_id'+ \" harus ada ||\"\n",
        "\n",
        "\n",
        "  #message 2\n",
        "  arrForMessage2 = [\n",
        "      {\n",
        "        'foundObj': findBranchID,\n",
        "        'fieldName': 'branch_id'\n",
        "      },\n",
        "      {\n",
        "        'foundObj': findCustType,\n",
        "        'fieldName': 'customer_type'\n",
        "      },\n",
        "      {\n",
        "        'foundObj': findCustTypeName,\n",
        "        'fieldName': 'customer_type_name'\n",
        "      },\n",
        "      {\n",
        "        'foundObj': findIndustryType,\n",
        "        'fieldName': 'industry_type'\n",
        "      },\n",
        "      {\n",
        "        'foundObj': findTermOfPayment,\n",
        "        'fieldName': 'term_of_payment'\n",
        "      },\n",
        "      {\n",
        "        'foundObj': findOrgType,\n",
        "        'fieldName': 'organization_type'\n",
        "      },\n",
        "      {\n",
        "        'foundObj': findVAToutType,\n",
        "        'fieldName': 'vat_out_type'\n",
        "      },\n",
        "      {\n",
        "        'foundObj': findCurrency,\n",
        "        'fieldName': 'currency'\n",
        "      }\n",
        "  ]\n",
        "  message2 = \"\"\n",
        "  # Function validation each mandatory rows\n",
        "\n",
        "  for x in arrForMessage2:\n",
        "    # print(x['foundObj'])\n",
        "    if len(x['foundObj']) < 1:\n",
        "      message2 += x['fieldName'] +\" Tidak ada di MasterData.||\"\n",
        "\n",
        "  return message +'' + message2\n",
        "\n",
        "\n",
        "def checkIfIssuse(daMessage):\n",
        "  if len(daMessage) > 0:\n",
        "    return \"ISSUE\"\n",
        "  else:\n",
        "    return \"SUCCESS\"\n"
      ]
    },
    {
      "cell_type": "code",
      "execution_count": null,
      "metadata": {
        "id": "cU8eB6LaTVMS"
      },
      "outputs": [],
      "source": [
        "df['keterangan'] = df.apply(lambda x: complex_function(x['branch_id'], x['customer_type'],x['customer_type_name'],x['industry_type'] ,x['term_of_payment'],x['organization_type'],x['vat_out_type'] ,x['currency'] ,x['customer_id'] ,x['customer_name'] ,x['branch_id'] ,x['branch_name'] ,x['customer_type'] ,x['industry_type'],x['npwp_id'] ), axis=1)\n",
        "df['status_import'] = df.apply(lambda x: checkIfIssuse(x['keterangan']), axis=1)"
      ]
    },
    {
      "cell_type": "code",
      "execution_count": null,
      "metadata": {
        "id": "jqCvxuIDTihL"
      },
      "outputs": [],
      "source": [
        "df_issue = df.loc[df['status_import'] == \"ISSUE\"]\n",
        "df  = df.loc[df['status_import'] == \"SUCCESS\"]"
      ]
    },
    {
      "cell_type": "markdown",
      "metadata": {
        "id": "IjhVAdI-g5q-"
      },
      "source": [
        "# Apply to Prod"
      ]
    },
    {
      "cell_type": "markdown",
      "metadata": {
        "id": "FQwDZT55UcUv"
      },
      "source": [
        "## Declare function"
      ]
    },
    {
      "cell_type": "code",
      "execution_count": null,
      "metadata": {
        "id": "dHw_s_m7fDj1"
      },
      "outputs": [],
      "source": [
        "from datetime import datetime\n",
        "import pytz\n",
        "\n",
        "def get_applied_date():\n",
        "  idnTime = pytz.timezone(\"Asia/Jakarta\") \n",
        "  now = datetime.now(idnTime)\n",
        "  dt_string = now.strftime(\"%b %d, %Y, %H:%M:%S\")\n",
        "  return dt_string\n",
        "\n",
        "def trim_only(name):\n",
        "  name= str(name)\n",
        "  return name.strip()\n",
        "\n",
        "\n",
        "def trim_uppercase(name):#string trim uppercase\n",
        "  name = str(name)\n",
        "  return name.strip().upper()\n",
        "\n",
        "\n",
        "def title_case(name): # proc, baru string trim\n",
        "  name = str(name)\n",
        "  splitStr = name.lower().split( )\n",
        "  for i in range(len(splitStr)):\n",
        "    splitStr[i] = splitStr[i][0].upper() + splitStr[i][1:]\n",
        "  s = ' '\n",
        "  s = s.join(splitStr).strip()\n",
        "  return s\n"
      ]
    },
    {
      "cell_type": "markdown",
      "metadata": {
        "id": "5-G_XUvMb_oC"
      },
      "source": [
        "## re define column"
      ]
    },
    {
      "cell_type": "code",
      "execution_count": null,
      "metadata": {
        "id": "RRb9mc-tbmgR",
        "colab": {
          "base_uri": "https://localhost:8080/"
        },
        "outputId": "3f115c82-8a47-42c1-e92e-161ce2db4092"
      },
      "outputs": [
        {
          "output_type": "stream",
          "name": "stderr",
          "text": [
            "<ipython-input-129-b4715ae2b94f>:2: SettingWithCopyWarning: \n",
            "A value is trying to be set on a copy of a slice from a DataFrame.\n",
            "Try using .loc[row_indexer,col_indexer] = value instead\n",
            "\n",
            "See the caveats in the documentation: https://pandas.pydata.org/pandas-docs/stable/user_guide/indexing.html#returning-a-view-versus-a-copy\n",
            "  df['id_costumer_identity']= df['branch_id'] + \"_\" + df['customer_id']\n",
            "<ipython-input-129-b4715ae2b94f>:3: SettingWithCopyWarning: \n",
            "A value is trying to be set on a copy of a slice from a DataFrame.\n",
            "Try using .loc[row_indexer,col_indexer] = value instead\n",
            "\n",
            "See the caveats in the documentation: https://pandas.pydata.org/pandas-docs/stable/user_guide/indexing.html#returning-a-view-versus-a-copy\n",
            "  df['id']= df['id_costumer_identity']\n"
          ]
        }
      ],
      "source": [
        "# declare id\n",
        "df['id_costumer_identity']= df['branch_id'] + \"_\" + df['customer_id']\n",
        "df['id']= df['id_costumer_identity']"
      ]
    },
    {
      "cell_type": "code",
      "source": [],
      "metadata": {
        "id": "kz4U-ohcpXNR"
      },
      "execution_count": null,
      "outputs": []
    },
    {
      "cell_type": "code",
      "execution_count": null,
      "metadata": {
        "colab": {
          "base_uri": "https://localhost:8080/"
        },
        "id": "jDSq2xb3f8lW",
        "outputId": "1350c358-56ef-48c0-911b-aaaf40f732f6"
      },
      "outputs": [
        {
          "output_type": "stream",
          "name": "stdout",
          "text": [
            "29999\n"
          ]
        }
      ],
      "source": [
        "# print(len(df_issue['id'].unique()))\n",
        "print(len(df['id'].unique()))"
      ]
    },
    {
      "cell_type": "code",
      "execution_count": null,
      "metadata": {
        "id": "rx4HW_nKugwT"
      },
      "outputs": [],
      "source": [
        "# title case\n",
        "df['contact_information_director_title'] = df.apply(lambda x: title_case(x['contact_information_director_title']), axis=1)\n",
        "df['contact_information_manager_title'] = df.apply(lambda x: title_case(x['contact_information_manager_title']), axis=1)\n",
        "df['contact_information_pic_collection_title'] = df.apply(lambda x: title_case(x['contact_information_pic_collection_title']), axis=1)\n",
        "df['contact_information_pic_finance_title'] = df.apply(lambda x: title_case(x['contact_information_pic_finance_title']), axis=1)\n",
        "df['contact_information_pic_operational_title'] = df.apply(lambda x: title_case(x['contact_information_pic_operational_title']), axis=1)\n",
        "df['customer_status'] = df.apply(lambda x: title_case(x['customer_status']), axis=1)"
      ]
    },
    {
      "cell_type": "code",
      "execution_count": null,
      "metadata": {
        "id": "9s2eBm0-HUcJ"
      },
      "outputs": [],
      "source": [
        "# trim uppercase\n",
        "df['account_executive_name'] = df.apply(lambda x: trim_uppercase(x['account_executive_name']), axis=1)\n",
        "df['branch_id'] = df.apply(lambda x: trim_uppercase(x['branch_id']), axis=1)\n",
        "df['branch_name'] = df.apply(lambda x: trim_uppercase(x['branch_name']), axis=1)\n",
        "df['contact_information_address_city'] = df.apply(lambda x: trim_uppercase(x['contact_information_address_city']), axis=1)\n",
        "df['contact_information_address_country'] = df.apply(lambda x: trim_uppercase(x['contact_information_address_country']), axis=1)\n",
        "df['contact_information_director_email'] = df.apply(lambda x: trim_uppercase(x['contact_information_director_email']), axis=1)\n",
        "df['contact_information_director_name'] = df.apply(lambda x: trim_uppercase(x['contact_information_director_name']), axis=1)\n",
        "df['contact_information_email'] = df.apply(lambda x: trim_uppercase(x['contact_information_email']), axis=1)\n",
        "df['contact_information_manager_email'] = df.apply(lambda x: trim_uppercase(x['contact_information_manager_email']), axis=1)\n",
        "df['contact_information_manager_name'] = df.apply(lambda x: trim_uppercase(x['contact_information_manager_name']), axis=1)\n",
        "df['contact_information_pic_collection_email'] = df.apply(lambda x: trim_uppercase(x['contact_information_pic_collection_email']), axis=1)\n",
        "df['contact_information_pic_collection_name'] = df.apply(lambda x: trim_uppercase(x['contact_information_pic_collection_name']), axis=1)\n",
        "df['contact_information_pic_finance_email'] = df.apply(lambda x: trim_uppercase(x['contact_information_pic_finance_email']), axis=1)\n",
        "df['contact_information_pic_finance_name'] = df.apply(lambda x: trim_uppercase(x['contact_information_pic_finance_name']), axis=1)\n",
        "df['contact_information_pic_operational_email'] = df.apply(lambda x: trim_uppercase(x['contact_information_pic_operational_email']), axis=1)\n",
        "df['contact_information_pic_operational_name'] = df.apply(lambda x: trim_uppercase(x['contact_information_pic_operational_name']), axis=1)\n",
        "df['contact_information_website'] = df.apply(lambda x: trim_uppercase(x['contact_information_website']), axis=1)\n",
        "df['currency'] = df.apply(lambda x: trim_uppercase(x['currency']), axis=1)\n",
        "df['customer_name'] = df.apply(lambda x: trim_uppercase(x['customer_name']), axis=1)\n",
        "df['customer_type'] = df.apply(lambda x: trim_uppercase(x['customer_type']), axis=1)\n",
        "df['customer_type_name'] = df.apply(lambda x: trim_uppercase(x['customer_type_name']), axis=1)\n",
        "df['department'] = df.apply(lambda x: trim_uppercase(x['department']), axis=1)\n",
        "df['generate_mass_standard_invoice'] = df.apply(lambda x: trim_uppercase(x['generate_mass_standard_invoice']), axis=1)\n",
        "df['industry_type'] = df.apply(lambda x: trim_uppercase(x['industry_type']), axis=1)\n",
        "\n",
        "#local parent id tidak ada, jadi di isi kosong saja\n",
        "# df['local_parent_id'] = df.apply(lambda x: trim_uppercase(x['local_parent_id']), axis=1)\n",
        "# df['local_parent_name'] = df.apply(lambda x: trim_uppercase(x['local_parent_name']), axis=1)\n",
        "# df['national_parent_id'] = df.apply(lambda x: trim_uppercase(x['national_parent_id']), axis=1)\n",
        "# df['national_parent_name'] = df.apply(lambda x: trim_uppercase(x['national_parent_name']), axis=1)\n",
        "\n",
        "df['local_parent_id'] = \"--\"\n",
        "df['local_parent_name'] = \"--\"\n",
        "df['national_parent_id'] = \"--\"\n",
        "df['national_parent_name'] = \"--\"\n",
        "\n",
        "df['npwp_street'] = df.apply(lambda x: trim_uppercase(x['npwp_street']), axis=1)\n",
        "df['npwp_address_city'] = df.apply(lambda x: trim_uppercase(x['npwp_address_city']), axis=1)\n",
        "df['npwp_address_country'] = df.apply(lambda x: trim_uppercase(x['npwp_address_country']), axis=1)\n",
        "df['npwp_address_kecamatan'] = df.apply(lambda x: trim_uppercase(x['npwp_address_kecamatan']), axis=1)\n",
        "df['npwp_address_kelurahan'] = df.apply(lambda x: trim_uppercase(x['npwp_address_kelurahan']), axis=1)\n",
        "df['npwp_name'] = df.apply(lambda x: trim_uppercase(x['npwp_name']), axis=1)\n",
        "df['is_cashless'] = df.apply(lambda x: trim_uppercase(x['is_cashless']), axis=1)"
      ]
    },
    {
      "cell_type": "code",
      "execution_count": null,
      "metadata": {
        "id": "bk1doXjUO_UX"
      },
      "outputs": [],
      "source": [
        "df['account_executive_nik']=df.apply(lambda x: trim_only(x['account_executive_nik']), axis=1)\n",
        "df['account_executive_phone_number']=df.apply(lambda x: trim_only(x['account_executive_phone_number']), axis=1)\n",
        "df['check_box_billed_by_branch']=df.apply(lambda x: trim_only(x['check_box_billed_by_branch']), axis=1)\n",
        "df['check_box_billed_by_site']=df.apply(lambda x: trim_only(x['check_box_billed_by_site']), axis=1)\n",
        "df['ccrf_last_update_date_and_time_the_core']=df.apply(lambda x: trim_only(x['ccrf_last_update_date_and_time_the_core']), axis=1)\n",
        "df['contact_information_address_kecamatan']=df.apply(lambda x: trim_only(x['contact_information_address_kecamatan']), axis=1)\n",
        "df['contact_information_address_kelurahan']=df.apply(lambda x: trim_only(x['contact_information_address_kelurahan']), axis=1)\n",
        "df['contact_information_address_latitude']=df.apply(lambda x: trim_only(x['contact_information_address_latitude']), axis=1)\n",
        "df['contact_information_address_longitude']=df.apply(lambda x: trim_only(x['contact_information_address_longitude']), axis=1)\n",
        "df['contact_information_address_street']=df.apply(lambda x: trim_only(x['contact_information_address_street']), axis=1)\n",
        "df['contact_information_address_zip_code']=df.apply(lambda x: trim_only(x['contact_information_address_zip_code']), axis=1)\n",
        "df['contact_information_director_phone']=df.apply(lambda x: trim_only(x['contact_information_director_phone']), axis=1)\n",
        "df['contact_information_fax']=df.apply(lambda x: trim_only(x['contact_information_fax']), axis=1)\n",
        "df['contact_information_manager_phone']=df.apply(lambda x: trim_only(x['contact_information_manager_phone']), axis=1)\n",
        "\n",
        "#local parent id tidak ada, jadi di isi kosong saja\n",
        "# df['contact_information_name']=df.apply(lambda x: trim_only(x['contact_information_name']), axis=1)\n",
        "df['contact_information_name']='--'\n",
        "\n",
        "\n",
        "df['contact_information_name_or_description']=df.apply(lambda x: trim_only(x['contact_information_name_or_description']), axis=1)\n",
        "df['contact_information_phone']=df.apply(lambda x: trim_only(x['contact_information_phone']), axis=1)\n",
        "df['contact_information_pic_collection_phone']=df.apply(lambda x: trim_only(x['contact_information_pic_collection_phone']), axis=1)\n",
        "df['contact_information_pic_finance_phone']=df.apply(lambda x: trim_only(x['contact_information_pic_finance_phone']), axis=1)\n",
        "df['contact_information_pic_operational_phone']=df.apply(lambda x: trim_only(x['contact_information_pic_operational_phone']), axis=1)\n",
        "df['contact_information_primary']=df.apply(lambda x: trim_only(x['contact_information_primary']), axis=1)\n",
        "df['contact_information_purpose']=df.apply(lambda x: trim_only(x['contact_information_purpose']), axis=1)\n",
        "df['contract_number']=df.apply(lambda x: trim_only(x['contract_number']), axis=1)\n",
        "df['contract_validity_from_date']=df.apply(lambda x: trim_only(x['contract_validity_from_date']), axis=1)\n",
        "df['contract_validity_to_date']=df.apply(lambda x: trim_only(x['contract_validity_to_date']), axis=1)\n",
        "df['creation_date_and_time']=df.apply(lambda x: trim_only(x['creation_date_and_time']), axis=1)\n",
        "df['customer_id']=df.apply(lambda x: trim_only(x['customer_id']), axis=1)\n",
        "\n",
        "# df['invoicing_method']=df.apply(lambda x: trim_only(x['invoicing_method']), axis=1)\n",
        "df['invoicing_method']=\"--\"\n",
        "\n",
        "# df['na_principal']=df.apply(lambda x: trim_only(x['na_principal']), axis=1)\n",
        "df['na_principal']='--'\n",
        "df['npwp_address_zip_code']=df.apply(lambda x: trim_only(x['npwp_address_zip_code']), axis=1)\n",
        "df['npwp_id']=df.apply(lambda x: trim_only(x['npwp_id']), axis=1)\n",
        "df['organization_type']=df.apply(lambda x: trim_only(x['organization_type']), axis=1)\n",
        "df['pkp_date']=df.apply(lambda x: trim_only(x['pkp_date']), axis=1)\n",
        "df['pkp_number']=df.apply(lambda x: trim_only(x['pkp_number']), axis=1)\n",
        "df['site_id']=df.apply(lambda x: trim_only(x['site_id']), axis=1)\n",
        "df['site_name']=df.apply(lambda x: trim_only(x['site_name']), axis=1)\n",
        "df['term_of_payment']=df.apply(lambda x: trim_only(x['term_of_payment']), axis=1)\n",
        "df['vat_out_type']=df.apply(lambda x: trim_only(x['vat_out_type']), axis=1)"
      ]
    },
    {
      "cell_type": "markdown",
      "metadata": {
        "id": "AKdxWsBcefmI"
      },
      "source": [
        "## proses pengganti job"
      ]
    },
    {
      "cell_type": "code",
      "execution_count": null,
      "metadata": {
        "id": "5_EWwZ-cizVL"
      },
      "outputs": [],
      "source": [
        "def cvt_to_array(val):\n",
        "  name= str(val)\n",
        "  tempz = [name.capitalize()]\n",
        "  return tempz\n",
        "\n",
        "def cvt_to_array_no_cap(val):\n",
        "  name= str(val)\n",
        "  if name.lower().strip() == \"yes\":\n",
        "    return [\"YES\"]\n",
        "  else:\n",
        "    return [\"NO\"]\n",
        "  # tempz = [name]\n",
        "  # return tempz\n",
        "\n",
        "\n",
        "df['check_box_billed_by_branch'] = df.apply(lambda x: cvt_to_array_no_cap(x['check_box_billed_by_branch']), axis=1)\n",
        "df['check_box_billed_by_site'] = df.apply(lambda x: cvt_to_array_no_cap(x['check_box_billed_by_site']), axis=1)\n",
        "\n",
        "df['generate_mass_standard_invoice'] = df.apply(lambda x: cvt_to_array_no_cap(x['generate_mass_standard_invoice']), axis=1)\n"
      ]
    },
    {
      "cell_type": "code",
      "execution_count": null,
      "metadata": {
        "id": "Lu7h-d25Ja4R"
      },
      "outputs": [],
      "source": [
        "df['account_executive_name'] = df['account_executive_name'].str.upper()\n",
        "df['customer_id'] = df['customer_id'].str.upper()\n",
        "df['customer_name'] = df['customer_name'].str.upper()\n",
        "df['department'] = df['department'].str.upper()\n",
        "df['npwp_city'] = df['npwp_address_city'].str.upper()\n",
        "df['npwp_country'] = df['npwp_address_country'].str.upper()\n",
        "df['npwp_kecamatan'] = df['npwp_address_kecamatan'].str.upper()\n",
        "\n",
        "\n",
        "df['npwp_kelurahan'] = df['npwp_address_kelurahan'].str.upper()\n",
        "\n",
        "df['npwp_name'] = df['npwp_name'].str.upper()\n",
        "\n",
        "\n",
        "df['npwp_street'] = df['npwp_street'].str.upper()\n",
        "\n",
        "df['npwp_zip_code'] = df['npwp_address_zip_code'].str.upper()\n",
        "\n",
        "\n"
      ]
    },
    {
      "cell_type": "code",
      "execution_count": null,
      "metadata": {
        "id": "8aH3BWA0wtsx"
      },
      "outputs": [],
      "source": [
        "df['created_at'] = 1680200586541\n",
        "df['created_by'] = 722\n",
        "df['flag_parent'] = 1\n",
        "df['flag_customer'] = 0\n",
        "df['flagging_cust'] = 0\n"
      ]
    },
    {
      "cell_type": "code",
      "execution_count": null,
      "metadata": {
        "id": "TOZfvLYriUXV"
      },
      "outputs": [],
      "source": [
        "df['account_executive_nik'] = df['account_executive_nik'].fillna('--')\n",
        "df['account_executive_phone_number'] = df['account_executive_phone_number'].fillna('--')\n",
        "df['contract_number'] = df['contract_number'].fillna('--')\n",
        "\n",
        "\n",
        "df['customer_status'] = df['customer_status'].fillna(\"Active\")\n",
        "df['costumer_status'] = df['customer_status']\n",
        "\n",
        "\n",
        "df['account_executive_nik'] = df['account_executive_nik'].fillna('--')\n",
        "df['is_cashless'] = df['is_cashless'].fillna('--')\n",
        "\n",
        "df['npwp_id'] = df['npwp_id'].fillna('--')\n",
        "df['pkp_number'] =df['pkp_number'].fillna('--')\n"
      ]
    },
    {
      "cell_type": "markdown",
      "metadata": {
        "id": "jq0R5abLiX6N"
      },
      "source": [
        "### replace by obj"
      ]
    },
    {
      "cell_type": "code",
      "execution_count": null,
      "metadata": {
        "id": "ZHJ37EQWkuhM"
      },
      "outputs": [],
      "source": [
        "def getObjSiteId(master_data,  target,target2, theName):\n",
        "  for x in master_data:\n",
        "    if x['branch_id']['name'].lower().strip() == target.lower().strip() and x['site_id'].lower().strip() == target2.lower().strip():\n",
        "      return {\n",
        "          \"id\":x['id_master_site_organization'],\n",
        "          \"name\":x[theName]\n",
        "      }\n",
        "      print('test')\n",
        "  return {\n",
        "        \"id\": \"000000000\",\n",
        "        \"name\": \"--\"\n",
        "}\n",
        "\n",
        "df['site_name'] =  df['site_name'].fillna('--')\n",
        "df['site_name'] = df.apply(lambda x: getObjSiteId(master_site_organization,x['branch_id'], x['site_id'], 'site_name'), axis=1)\n",
        "\n",
        "\n",
        "df['site_id'] =  df['site_id'].fillna('--')\n",
        "df['site_id'] = df.apply(lambda x: getObjSiteId(master_site_organization,x['branch_id'], x['site_id'], 'site_id'), axis=1)\n",
        "\n"
      ]
    },
    {
      "cell_type": "code",
      "execution_count": null,
      "metadata": {
        "colab": {
          "base_uri": "https://localhost:8080/"
        },
        "id": "G_BYi4nzra-R",
        "outputId": "a0d88a94-30bc-4801-864f-91412cfa10c9"
      },
      "outputs": [
        {
          "output_type": "execute_result",
          "data": {
            "text/plain": [
              "0        {'id': '000000000', 'name': '--'}\n",
              "1        {'id': '000000000', 'name': '--'}\n",
              "2        {'id': '000000000', 'name': '--'}\n",
              "3        {'id': '000000000', 'name': '--'}\n",
              "4        {'id': '000000000', 'name': '--'}\n",
              "                       ...                \n",
              "29995    {'id': '000000000', 'name': '--'}\n",
              "29996    {'id': '000000000', 'name': '--'}\n",
              "29997    {'id': '000000000', 'name': '--'}\n",
              "29998    {'id': '000000000', 'name': '--'}\n",
              "29999    {'id': '000000000', 'name': '--'}\n",
              "Name: site_name, Length: 29999, dtype: object"
            ]
          },
          "metadata": {},
          "execution_count": 139
        }
      ],
      "source": [
        "df['site_name']"
      ]
    },
    {
      "cell_type": "code",
      "execution_count": null,
      "metadata": {
        "id": "0gi_7hV2ozTO"
      },
      "outputs": [],
      "source": [
        "# function ambil object dari data manager\n",
        "def getObj(master_data, field, target,theId,  name):\n",
        "  for x in master_data:\n",
        "    if x[field].lower().strip() == target.lower().strip():\n",
        "      return {\n",
        "          \"id\":x[theId],\n",
        "          \"name\":x[name]\n",
        "      }\n",
        "      print('test')\n",
        "  return {\n",
        "        \"id\": \"000000000\",\n",
        "        \"name\": \"--\"\n",
        "  }\n",
        "df['branch_name'] =  df['branch_name'].fillna('--')\n",
        "df['branch_name'] = df.apply(lambda x: getObj(master_branch_organization, 'branch_id',x['branch_id'], 'id_master_branch_organization', 'branch_name'), axis=1)\n",
        "\n",
        "df['branch_id'] =  df['branch_id'].fillna('--')\n",
        "df['branch_id'] = df.apply(lambda x: getObj(master_branch_organization, 'branch_id',x['branch_id'], 'id_master_branch_organization', 'branch_id'), axis=1)\n",
        "\n"
      ]
    },
    {
      "cell_type": "code",
      "execution_count": null,
      "metadata": {
        "id": "MyiwG9RZxQBR"
      },
      "outputs": [],
      "source": [
        "df['currency'] =  df['currency'].fillna('--')\n",
        "df['currency'] = df.apply(lambda x: getObj(master_currency, 'currency',x['currency'], 'ids', 'currency'), axis=1)"
      ]
    },
    {
      "cell_type": "code",
      "execution_count": null,
      "metadata": {
        "id": "4cMcmMtOyZQP"
      },
      "outputs": [],
      "source": [
        "df['customer_type'] =  df['customer_type'].fillna('--')\n",
        "df['customer_type'] = df.apply(lambda x: getObj(master_customer_type, 'customer_type',x['customer_type'], 'id_master_customer_type', 'customer_type'), axis=1)"
      ]
    },
    {
      "cell_type": "code",
      "execution_count": null,
      "metadata": {
        "id": "tfvYC1z_y35p"
      },
      "outputs": [],
      "source": [
        "df['industry_type'] =  df['industry_type'].fillna('--')\n",
        "df['industry_type'] = df.apply(lambda x: getObj(master_industry_type, 'industry_code',x['industry_type'], 'id_master_industry_type', 'industry_name'), axis=1)"
      ]
    },
    {
      "cell_type": "code",
      "execution_count": null,
      "metadata": {
        "id": "6T29w3lw0Ui3"
      },
      "outputs": [],
      "source": [
        "df['invoicing_method'] =  df['invoicing_method'].fillna('--')\n",
        "df['invoicing_method'] = df.apply(lambda x: getObj(master_invoicing_method, 'metode_invoice',x['invoicing_method'], 'id_invoicing_method', 'metode_invoice'), axis=1)"
      ]
    },
    {
      "cell_type": "code",
      "execution_count": null,
      "metadata": {
        "id": "8JRNCA1I1Shy"
      },
      "outputs": [],
      "source": [
        "df['customer_type_name'] =  df['customer_type_name'].fillna('--')\n",
        "df['customer_type_name'] = df.apply(lambda x: getObj(master_detail_customer_type, 'customer_type_name',x['customer_type_name'], 'id_master_detail_customer_type', 'customer_type_name'), axis=1)\n",
        "df['jenis_customer_type'] = df['customer_type_name']"
      ]
    },
    {
      "cell_type": "code",
      "execution_count": null,
      "metadata": {
        "id": "RkeAZn20idLD"
      },
      "outputs": [],
      "source": [
        "df['organization_type'] =  df['organization_type'].fillna('--')\n",
        "df['organization_type'] = df.apply(lambda x: getObj(master_organization_type, 'organization_name',x['organization_type'], 'ids', 'organization_name'), axis=1)"
      ]
    },
    {
      "cell_type": "code",
      "execution_count": null,
      "metadata": {
        "id": "B5dLXXGiswx7"
      },
      "outputs": [],
      "source": [
        "df['vat_out_type'] =  df['vat_out_type'].fillna('--')\n",
        "df['vat_out_type'] = df.apply(lambda x: getObj(master_vat_out_type, 'vat_out_type',x['vat_out_type'], 'id_vat_out_type', 'vat_out_type'), axis=1)"
      ]
    },
    {
      "cell_type": "code",
      "execution_count": null,
      "metadata": {
        "id": "DI3mekvCj3-u"
      },
      "outputs": [],
      "source": [
        "def getObjMasterInt(master_data, field, target,theId,  name):\n",
        "  for x in master_data:\n",
        "    if str(x[field]).lower().strip() == target.lower().strip():\n",
        "      return {\n",
        "          \"id\":x[theId],\n",
        "          \"name\":x[name]\n",
        "      }\n",
        "      print('test')\n",
        "  return {\n",
        "        \"id\": \"000000000\",\n",
        "        \"name\": \"--\"\n",
        "  }\n",
        "\n",
        "df['term_of_payment'] =  df['term_of_payment'].fillna('--')\n",
        "df['term_of_payment'] = df.apply(lambda x: getObjMasterInt(master_term_of_payment, 'term_of_payment',x['term_of_payment'], 'ids', 'term_of_payment'), axis=1)"
      ]
    },
    {
      "cell_type": "code",
      "execution_count": null,
      "metadata": {
        "colab": {
          "base_uri": "https://localhost:8080/"
        },
        "id": "K8pdkZwOsk_5",
        "outputId": "0c423178-ee5a-4096-d345-83f6b1d96e59"
      },
      "outputs": [
        {
          "output_type": "execute_result",
          "data": {
            "text/plain": [
              "0        {'id': '8pibBdbVR', 'name': 14}\n",
              "1        {'id': '8pibBdbVR', 'name': 14}\n",
              "2        {'id': '8pibBdbVR', 'name': 14}\n",
              "3        {'id': '8pibBdbVR', 'name': 14}\n",
              "4        {'id': '8pibBdbVR', 'name': 14}\n",
              "                      ...               \n",
              "29995    {'id': '8pibBdbVR', 'name': 14}\n",
              "29996    {'id': '8pibBdbVR', 'name': 14}\n",
              "29997    {'id': '8pibBdbVR', 'name': 14}\n",
              "29998    {'id': '8pibBdbVR', 'name': 14}\n",
              "29999    {'id': '8pibBdbVR', 'name': 14}\n",
              "Name: term_of_payment, Length: 29999, dtype: object"
            ]
          },
          "metadata": {},
          "execution_count": 149
        }
      ],
      "source": [
        "df['term_of_payment']"
      ]
    },
    {
      "cell_type": "markdown",
      "metadata": {
        "id": "gdWIZK_uiaZF"
      },
      "source": [
        "### force replace empty object"
      ]
    },
    {
      "cell_type": "code",
      "execution_count": null,
      "metadata": {
        "id": "LrlFgxj2eYV6"
      },
      "outputs": [],
      "source": [
        "\n",
        "def fill_empty_obj(val):\n",
        "  name= str(val)\n",
        "  tempz = {\n",
        "        \"id\": \"000000000\",\n",
        "        \"name\": \"--\"\n",
        "  }\n",
        "  return tempz\n",
        "\n",
        "df['local_parent_id'] =  '--'\n",
        "df['local_parent_id'] = df.apply(lambda x: fill_empty_obj(x['local_parent_id']), axis=1)\n",
        "df['local_parent_name'] =  '--'\n",
        "df['local_parent_name'] = df.apply(lambda x: fill_empty_obj(x['local_parent_name']), axis=1)\n",
        "df['national_parent_id'] =  '--'\n",
        "df['national_parent_id'] = df.apply(lambda x: fill_empty_obj(x['national_parent_id']), axis=1)\n",
        "df['national_parent_name'] =  '--'\n",
        "df['national_parent_name'] = df.apply(lambda x: fill_empty_obj(x['national_parent_name']), axis=1)\n",
        "df['na_principal']='--'\n",
        "df['na_principal'] = df.apply(lambda x: fill_empty_obj(x['na_principal']), axis=1)"
      ]
    },
    {
      "cell_type": "markdown",
      "metadata": {
        "id": "6jm9acNCRynV"
      },
      "source": [
        "### replace to times"
      ]
    },
    {
      "cell_type": "code",
      "execution_count": null,
      "metadata": {
        "id": "Thmy_TyxR-a4"
      },
      "outputs": [],
      "source": [
        "import time\n",
        "import datetime\n",
        "def convertToTimestamp(val):\n",
        "  if val == '--':\n",
        "      return 0\n",
        "  try:\n",
        "    return time.mktime(datetime.datetime.strptime(val, \"%Y/%m/%d\").timetuple()) * 1000\n",
        "  except:\n",
        "    return 0\n",
        "# df['contract_validity_from_date'] =\n"
      ]
    },
    {
      "cell_type": "code",
      "execution_count": null,
      "metadata": {
        "id": "M3EWLUCCUniV"
      },
      "outputs": [],
      "source": [
        "df['contract_validity_period_from_date'] = df['contract_validity_from_date']\n",
        "df['contract_validity_period_from_date'] = df.apply(lambda x: convertToTimestamp(x['contract_validity_period_from_date']), axis=1)\n",
        "\n",
        "df['contract_validity_period_to_date'] = df['contract_validity_to_date']\n",
        "df['contract_validity_period_to_date'] = df.apply(lambda x: convertToTimestamp(x['contract_validity_period_to_date']), axis=1)\n",
        "\n",
        "\n",
        "df['ccrf_last_update_date_and_time_the_core'] = df.apply(lambda x: convertToTimestamp(x['ccrf_last_update_date_and_time_the_core']), axis=1)\n",
        "df['creation_date_and_time'] = df.apply(lambda x: convertToTimestamp(x['creation_date_and_time']), axis=1)\n",
        "df['pkp_date'] = df.apply(lambda x: convertToTimestamp(x['pkp_date']), axis=1)\n",
        "\n"
      ]
    },
    {
      "cell_type": "markdown",
      "metadata": {
        "id": "qFNRZj1NpOaR"
      },
      "source": [
        "## Exporting"
      ]
    },
    {
      "cell_type": "code",
      "execution_count": null,
      "metadata": {
        "id": "o_Sk_7EPBBn6"
      },
      "outputs": [],
      "source": [
        "from google.colab import files\n",
        "import json\n",
        "import math\n",
        "# row_count = 10000 # jumlah row data yang dimasukin di excel\n",
        "# batch_size = 10000 #jumlah 1 batch berapa\n",
        "\n",
        "\n",
        "# loopAmount = math.floor(row_count / batch_size) + 1\n",
        "# print(loopAmount)"
      ]
    },
    {
      "cell_type": "code",
      "execution_count": null,
      "metadata": {
        "colab": {
          "base_uri": "https://localhost:8080/",
          "height": 34
        },
        "id": "hdeh2UFHUd5p",
        "outputId": "6391c78d-86d8-4ef7-f5dc-7f4ca585a133"
      },
      "outputs": [
        {
          "output_type": "display_data",
          "data": {
            "text/plain": [
              "<IPython.core.display.Javascript object>"
            ],
            "application/javascript": [
              "\n",
              "    async function download(id, filename, size) {\n",
              "      if (!google.colab.kernel.accessAllowed) {\n",
              "        return;\n",
              "      }\n",
              "      const div = document.createElement('div');\n",
              "      const label = document.createElement('label');\n",
              "      label.textContent = `Downloading \"${filename}\": `;\n",
              "      div.appendChild(label);\n",
              "      const progress = document.createElement('progress');\n",
              "      progress.max = size;\n",
              "      div.appendChild(progress);\n",
              "      document.body.appendChild(div);\n",
              "\n",
              "      const buffers = [];\n",
              "      let downloaded = 0;\n",
              "\n",
              "      const channel = await google.colab.kernel.comms.open(id);\n",
              "      // Send a message to notify the kernel that we're ready.\n",
              "      channel.send({})\n",
              "\n",
              "      for await (const message of channel.messages) {\n",
              "        // Send a message to notify the kernel that we're ready.\n",
              "        channel.send({})\n",
              "        if (message.buffers) {\n",
              "          for (const buffer of message.buffers) {\n",
              "            buffers.push(buffer);\n",
              "            downloaded += buffer.byteLength;\n",
              "            progress.value = downloaded;\n",
              "          }\n",
              "        }\n",
              "      }\n",
              "      const blob = new Blob(buffers, {type: 'application/binary'});\n",
              "      const a = document.createElement('a');\n",
              "      a.href = window.URL.createObjectURL(blob);\n",
              "      a.download = filename;\n",
              "      div.appendChild(a);\n",
              "      a.click();\n",
              "      div.remove();\n",
              "    }\n",
              "  "
            ]
          },
          "metadata": {}
        },
        {
          "output_type": "display_data",
          "data": {
            "text/plain": [
              "<IPython.core.display.Javascript object>"
            ],
            "application/javascript": [
              "download(\"download_e53226f0-0088-4043-93ba-85a145349c20\", \"records.json\", 121268857)"
            ]
          },
          "metadata": {}
        }
      ],
      "source": [
        "final_json = {\n",
        "  \"form_data\": form_data,\n",
        "  \"records\": df.to_dict(orient=\"records\")\n",
        "}\n",
        "filez = json.dumps(final_json, default=str)\n",
        "  \n",
        "with open('records.json', 'w') as f:\n",
        "  f.write(filez)\n",
        "files.download('records.json')"
      ]
    },
    {
      "cell_type": "code",
      "execution_count": null,
      "metadata": {
        "id": "L7bzNqSHVmgz"
      },
      "outputs": [],
      "source": [
        "df_issue.to_excel(\"issue_import.xlsx\",\n",
        "             sheet_name='Sheet_name_1') "
      ]
    },
    {
      "cell_type": "code",
      "source": [
        "df['generate_mass_standard_invoice']"
      ],
      "metadata": {
        "colab": {
          "base_uri": "https://localhost:8080/"
        },
        "id": "eaD-1R_-vOfN",
        "outputId": "ea7ef2a3-b9e0-4f71-b25b-302ed098c3fa"
      },
      "execution_count": null,
      "outputs": [
        {
          "output_type": "execute_result",
          "data": {
            "text/plain": [
              "0        [YES]\n",
              "1        [YES]\n",
              "2        [YES]\n",
              "3        [YES]\n",
              "4        [YES]\n",
              "         ...  \n",
              "29995     [NO]\n",
              "29996     [NO]\n",
              "29997     [NO]\n",
              "29998     [NO]\n",
              "29999     [NO]\n",
              "Name: generate_mass_standard_invoice, Length: 29999, dtype: object"
            ]
          },
          "metadata": {},
          "execution_count": 156
        }
      ]
    }
  ],
  "metadata": {
    "colab": {
      "provenance": [],
      "toc_visible": true,
      "include_colab_link": true
    },
    "kernelspec": {
      "display_name": "Python 3",
      "name": "python3"
    },
    "language_info": {
      "name": "python"
    }
  },
  "nbformat": 4,
  "nbformat_minor": 0
}